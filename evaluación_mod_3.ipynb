{
 "cells": [
  {
   "cell_type": "code",
   "execution_count": 205,
   "id": "abe7377e",
   "metadata": {},
   "outputs": [],
   "source": [
    "# importaciones necesarias para el EDA:\n",
    "import pandas as pd\n",
    "import numpy as np\n",
    "# pd.set_option('display.max_rows', None)\n",
    "pd.set_option('display.max_columns', None)\n",
    "import matplotlib.pyplot as plt\n",
    "import seaborn as sns"
   ]
  },
  {
   "cell_type": "code",
   "execution_count": 189,
   "id": "70f7819a",
   "metadata": {},
   "outputs": [],
   "source": [
    "df_flight_activity = pd.read_csv('files/customer_flight_activity.csv')"
   ]
  },
  {
   "cell_type": "code",
   "execution_count": null,
   "id": "ab50e60a",
   "metadata": {},
   "outputs": [],
   "source": [
    "df_loyalty_histori = pd.read_csv('files/customer_loyalty_history.csv', index_col=0)"
   ]
  },
  {
   "cell_type": "code",
   "execution_count": 187,
   "id": "ae25601c",
   "metadata": {},
   "outputs": [
    {
     "data": {
      "text/html": [
       "<div>\n",
       "<style scoped>\n",
       "    .dataframe tbody tr th:only-of-type {\n",
       "        vertical-align: middle;\n",
       "    }\n",
       "\n",
       "    .dataframe tbody tr th {\n",
       "        vertical-align: top;\n",
       "    }\n",
       "\n",
       "    .dataframe thead th {\n",
       "        text-align: right;\n",
       "    }\n",
       "</style>\n",
       "<table border=\"1\" class=\"dataframe\">\n",
       "  <thead>\n",
       "    <tr style=\"text-align: right;\">\n",
       "      <th></th>\n",
       "      <th>Loyalty Number</th>\n",
       "      <th>Year</th>\n",
       "      <th>Month</th>\n",
       "      <th>Flights Booked</th>\n",
       "      <th>Flights with Companions</th>\n",
       "      <th>Total Flights</th>\n",
       "      <th>Distance</th>\n",
       "      <th>Points Accumulated</th>\n",
       "      <th>Points Redeemed</th>\n",
       "      <th>Dollar Cost Points Redeemed</th>\n",
       "    </tr>\n",
       "  </thead>\n",
       "  <tbody>\n",
       "    <tr>\n",
       "      <th>80145</th>\n",
       "      <td>765202</td>\n",
       "      <td>2017</td>\n",
       "      <td>5</td>\n",
       "      <td>0</td>\n",
       "      <td>0</td>\n",
       "      <td>0</td>\n",
       "      <td>0</td>\n",
       "      <td>0.00</td>\n",
       "      <td>0</td>\n",
       "      <td>0</td>\n",
       "    </tr>\n",
       "    <tr>\n",
       "      <th>301399</th>\n",
       "      <td>847359</td>\n",
       "      <td>2018</td>\n",
       "      <td>6</td>\n",
       "      <td>0</td>\n",
       "      <td>0</td>\n",
       "      <td>0</td>\n",
       "      <td>0</td>\n",
       "      <td>0.00</td>\n",
       "      <td>0</td>\n",
       "      <td>0</td>\n",
       "    </tr>\n",
       "    <tr>\n",
       "      <th>121181</th>\n",
       "      <td>255108</td>\n",
       "      <td>2017</td>\n",
       "      <td>8</td>\n",
       "      <td>8</td>\n",
       "      <td>0</td>\n",
       "      <td>8</td>\n",
       "      <td>736</td>\n",
       "      <td>73.00</td>\n",
       "      <td>0</td>\n",
       "      <td>0</td>\n",
       "    </tr>\n",
       "    <tr>\n",
       "      <th>123705</th>\n",
       "      <td>704968</td>\n",
       "      <td>2017</td>\n",
       "      <td>8</td>\n",
       "      <td>17</td>\n",
       "      <td>3</td>\n",
       "      <td>20</td>\n",
       "      <td>4360</td>\n",
       "      <td>436.00</td>\n",
       "      <td>625</td>\n",
       "      <td>50</td>\n",
       "    </tr>\n",
       "    <tr>\n",
       "      <th>9255</th>\n",
       "      <td>593039</td>\n",
       "      <td>2017</td>\n",
       "      <td>1</td>\n",
       "      <td>0</td>\n",
       "      <td>0</td>\n",
       "      <td>0</td>\n",
       "      <td>0</td>\n",
       "      <td>0.00</td>\n",
       "      <td>0</td>\n",
       "      <td>0</td>\n",
       "    </tr>\n",
       "    <tr>\n",
       "      <th>195531</th>\n",
       "      <td>612074</td>\n",
       "      <td>2017</td>\n",
       "      <td>12</td>\n",
       "      <td>5</td>\n",
       "      <td>0</td>\n",
       "      <td>5</td>\n",
       "      <td>3860</td>\n",
       "      <td>386.00</td>\n",
       "      <td>0</td>\n",
       "      <td>0</td>\n",
       "    </tr>\n",
       "    <tr>\n",
       "      <th>215888</th>\n",
       "      <td>793801</td>\n",
       "      <td>2018</td>\n",
       "      <td>1</td>\n",
       "      <td>0</td>\n",
       "      <td>0</td>\n",
       "      <td>0</td>\n",
       "      <td>0</td>\n",
       "      <td>0.00</td>\n",
       "      <td>0</td>\n",
       "      <td>0</td>\n",
       "    </tr>\n",
       "    <tr>\n",
       "      <th>220018</th>\n",
       "      <td>252136</td>\n",
       "      <td>2018</td>\n",
       "      <td>2</td>\n",
       "      <td>3</td>\n",
       "      <td>3</td>\n",
       "      <td>6</td>\n",
       "      <td>432</td>\n",
       "      <td>46.44</td>\n",
       "      <td>0</td>\n",
       "      <td>0</td>\n",
       "    </tr>\n",
       "    <tr>\n",
       "      <th>264605</th>\n",
       "      <td>689909</td>\n",
       "      <td>2018</td>\n",
       "      <td>4</td>\n",
       "      <td>0</td>\n",
       "      <td>0</td>\n",
       "      <td>0</td>\n",
       "      <td>0</td>\n",
       "      <td>0.00</td>\n",
       "      <td>0</td>\n",
       "      <td>0</td>\n",
       "    </tr>\n",
       "    <tr>\n",
       "      <th>274086</th>\n",
       "      <td>297327</td>\n",
       "      <td>2018</td>\n",
       "      <td>5</td>\n",
       "      <td>16</td>\n",
       "      <td>7</td>\n",
       "      <td>23</td>\n",
       "      <td>3013</td>\n",
       "      <td>301.00</td>\n",
       "      <td>0</td>\n",
       "      <td>0</td>\n",
       "    </tr>\n",
       "  </tbody>\n",
       "</table>\n",
       "</div>"
      ],
      "text/plain": [
       "        Loyalty Number  Year  Month  Flights Booked  Flights with Companions  \\\n",
       "80145           765202  2017      5               0                        0   \n",
       "301399          847359  2018      6               0                        0   \n",
       "121181          255108  2017      8               8                        0   \n",
       "123705          704968  2017      8              17                        3   \n",
       "9255            593039  2017      1               0                        0   \n",
       "195531          612074  2017     12               5                        0   \n",
       "215888          793801  2018      1               0                        0   \n",
       "220018          252136  2018      2               3                        3   \n",
       "264605          689909  2018      4               0                        0   \n",
       "274086          297327  2018      5              16                        7   \n",
       "\n",
       "        Total Flights  Distance  Points Accumulated  Points Redeemed  \\\n",
       "80145               0         0                0.00                0   \n",
       "301399              0         0                0.00                0   \n",
       "121181              8       736               73.00                0   \n",
       "123705             20      4360              436.00              625   \n",
       "9255                0         0                0.00                0   \n",
       "195531              5      3860              386.00                0   \n",
       "215888              0         0                0.00                0   \n",
       "220018              6       432               46.44                0   \n",
       "264605              0         0                0.00                0   \n",
       "274086             23      3013              301.00                0   \n",
       "\n",
       "        Dollar Cost Points Redeemed  \n",
       "80145                             0  \n",
       "301399                            0  \n",
       "121181                            0  \n",
       "123705                           50  \n",
       "9255                              0  \n",
       "195531                            0  \n",
       "215888                            0  \n",
       "220018                            0  \n",
       "264605                            0  \n",
       "274086                            0  "
      ]
     },
     "execution_count": 187,
     "metadata": {},
     "output_type": "execute_result"
    }
   ],
   "source": [
    "df_flight_activity.sample(10)"
   ]
  },
  {
   "cell_type": "code",
   "execution_count": 81,
   "id": "382e84ea",
   "metadata": {},
   "outputs": [
    {
     "data": {
      "text/plain": [
       "(405624, 10)"
      ]
     },
     "execution_count": 81,
     "metadata": {},
     "output_type": "execute_result"
    }
   ],
   "source": [
    "df_flight_activity.shape"
   ]
  },
  {
   "cell_type": "code",
   "execution_count": 290,
   "id": "94ebd2e4",
   "metadata": {},
   "outputs": [
    {
     "data": {
      "text/html": [
       "<div>\n",
       "<style scoped>\n",
       "    .dataframe tbody tr th:only-of-type {\n",
       "        vertical-align: middle;\n",
       "    }\n",
       "\n",
       "    .dataframe tbody tr th {\n",
       "        vertical-align: top;\n",
       "    }\n",
       "\n",
       "    .dataframe thead th {\n",
       "        text-align: right;\n",
       "    }\n",
       "</style>\n",
       "<table border=\"1\" class=\"dataframe\">\n",
       "  <thead>\n",
       "    <tr style=\"text-align: right;\">\n",
       "      <th></th>\n",
       "      <th>count</th>\n",
       "      <th>mean</th>\n",
       "      <th>std</th>\n",
       "      <th>min</th>\n",
       "      <th>25%</th>\n",
       "      <th>50%</th>\n",
       "      <th>75%</th>\n",
       "      <th>max</th>\n",
       "    </tr>\n",
       "  </thead>\n",
       "  <tbody>\n",
       "    <tr>\n",
       "      <th>Loyalty Number</th>\n",
       "      <td>403760.0</td>\n",
       "      <td>549875.383713</td>\n",
       "      <td>258961.514684</td>\n",
       "      <td>100018.0</td>\n",
       "      <td>326699.0</td>\n",
       "      <td>550598.0</td>\n",
       "      <td>772152.0</td>\n",
       "      <td>999986.0</td>\n",
       "    </tr>\n",
       "    <tr>\n",
       "      <th>Year</th>\n",
       "      <td>403760.0</td>\n",
       "      <td>2017.500352</td>\n",
       "      <td>0.500000</td>\n",
       "      <td>2017.0</td>\n",
       "      <td>2017.0</td>\n",
       "      <td>2018.0</td>\n",
       "      <td>2018.0</td>\n",
       "      <td>2018.0</td>\n",
       "    </tr>\n",
       "    <tr>\n",
       "      <th>Month</th>\n",
       "      <td>403760.0</td>\n",
       "      <td>6.501335</td>\n",
       "      <td>3.451982</td>\n",
       "      <td>1.0</td>\n",
       "      <td>4.0</td>\n",
       "      <td>7.0</td>\n",
       "      <td>10.0</td>\n",
       "      <td>12.0</td>\n",
       "    </tr>\n",
       "    <tr>\n",
       "      <th>Flights Booked</th>\n",
       "      <td>403760.0</td>\n",
       "      <td>4.134050</td>\n",
       "      <td>5.230064</td>\n",
       "      <td>0.0</td>\n",
       "      <td>0.0</td>\n",
       "      <td>1.0</td>\n",
       "      <td>8.0</td>\n",
       "      <td>21.0</td>\n",
       "    </tr>\n",
       "    <tr>\n",
       "      <th>Flights with Companions</th>\n",
       "      <td>403760.0</td>\n",
       "      <td>1.036569</td>\n",
       "      <td>2.080472</td>\n",
       "      <td>0.0</td>\n",
       "      <td>0.0</td>\n",
       "      <td>0.0</td>\n",
       "      <td>1.0</td>\n",
       "      <td>11.0</td>\n",
       "    </tr>\n",
       "    <tr>\n",
       "      <th>Total Flights</th>\n",
       "      <td>403760.0</td>\n",
       "      <td>5.170619</td>\n",
       "      <td>6.526858</td>\n",
       "      <td>0.0</td>\n",
       "      <td>0.0</td>\n",
       "      <td>1.0</td>\n",
       "      <td>10.0</td>\n",
       "      <td>32.0</td>\n",
       "    </tr>\n",
       "    <tr>\n",
       "      <th>Distance</th>\n",
       "      <td>403760.0</td>\n",
       "      <td>1214.460979</td>\n",
       "      <td>1434.098521</td>\n",
       "      <td>0.0</td>\n",
       "      <td>0.0</td>\n",
       "      <td>525.0</td>\n",
       "      <td>2342.0</td>\n",
       "      <td>6293.0</td>\n",
       "    </tr>\n",
       "    <tr>\n",
       "      <th>Points Accumulated</th>\n",
       "      <td>403760.0</td>\n",
       "      <td>124.263761</td>\n",
       "      <td>146.696179</td>\n",
       "      <td>0.0</td>\n",
       "      <td>0.0</td>\n",
       "      <td>53.0</td>\n",
       "      <td>240.0</td>\n",
       "      <td>676.5</td>\n",
       "    </tr>\n",
       "    <tr>\n",
       "      <th>Points Redeemed</th>\n",
       "      <td>403760.0</td>\n",
       "      <td>30.838587</td>\n",
       "      <td>125.758002</td>\n",
       "      <td>0.0</td>\n",
       "      <td>0.0</td>\n",
       "      <td>0.0</td>\n",
       "      <td>0.0</td>\n",
       "      <td>876.0</td>\n",
       "    </tr>\n",
       "    <tr>\n",
       "      <th>Dollar Cost Points Redeemed</th>\n",
       "      <td>403760.0</td>\n",
       "      <td>2.495973</td>\n",
       "      <td>10.172033</td>\n",
       "      <td>0.0</td>\n",
       "      <td>0.0</td>\n",
       "      <td>0.0</td>\n",
       "      <td>0.0</td>\n",
       "      <td>71.0</td>\n",
       "    </tr>\n",
       "  </tbody>\n",
       "</table>\n",
       "</div>"
      ],
      "text/plain": [
       "                                count           mean            std       min  \\\n",
       "Loyalty Number               403760.0  549875.383713  258961.514684  100018.0   \n",
       "Year                         403760.0    2017.500352       0.500000    2017.0   \n",
       "Month                        403760.0       6.501335       3.451982       1.0   \n",
       "Flights Booked               403760.0       4.134050       5.230064       0.0   \n",
       "Flights with Companions      403760.0       1.036569       2.080472       0.0   \n",
       "Total Flights                403760.0       5.170619       6.526858       0.0   \n",
       "Distance                     403760.0    1214.460979    1434.098521       0.0   \n",
       "Points Accumulated           403760.0     124.263761     146.696179       0.0   \n",
       "Points Redeemed              403760.0      30.838587     125.758002       0.0   \n",
       "Dollar Cost Points Redeemed  403760.0       2.495973      10.172033       0.0   \n",
       "\n",
       "                                  25%       50%       75%       max  \n",
       "Loyalty Number               326699.0  550598.0  772152.0  999986.0  \n",
       "Year                           2017.0    2018.0    2018.0    2018.0  \n",
       "Month                             4.0       7.0      10.0      12.0  \n",
       "Flights Booked                    0.0       1.0       8.0      21.0  \n",
       "Flights with Companions           0.0       0.0       1.0      11.0  \n",
       "Total Flights                     0.0       1.0      10.0      32.0  \n",
       "Distance                          0.0     525.0    2342.0    6293.0  \n",
       "Points Accumulated                0.0      53.0     240.0     676.5  \n",
       "Points Redeemed                   0.0       0.0       0.0     876.0  \n",
       "Dollar Cost Points Redeemed       0.0       0.0       0.0      71.0  "
      ]
     },
     "execution_count": 290,
     "metadata": {},
     "output_type": "execute_result"
    }
   ],
   "source": [
    "df_flight_activity.describe().T"
   ]
  },
  {
   "cell_type": "code",
   "execution_count": null,
   "id": "ff38956e",
   "metadata": {},
   "outputs": [
    {
     "name": "stdout",
     "output_type": "stream",
     "text": [
      "<class 'pandas.core.frame.DataFrame'>\n",
      "RangeIndex: 405624 entries, 0 to 405623\n",
      "Data columns (total 10 columns):\n",
      " #   Column                       Non-Null Count   Dtype  \n",
      "---  ------                       --------------   -----  \n",
      " 0   Loyalty Number               405624 non-null  int64  \n",
      " 1   Year                         405624 non-null  int64  \n",
      " 2   Month                        405624 non-null  int64  \n",
      " 3   Flights Booked               405624 non-null  int64  \n",
      " 4   Flights with Companions      405624 non-null  int64  \n",
      " 5   Total Flights                405624 non-null  int64  \n",
      " 6   Distance                     405624 non-null  int64  \n",
      " 7   Points Accumulated           405624 non-null  float64\n",
      " 8   Points Redeemed              405624 non-null  int64  \n",
      " 9   Dollar Cost Points Redeemed  405624 non-null  int64  \n",
      "dtypes: float64(1), int64(9)\n",
      "memory usage: 30.9 MB\n"
     ]
    }
   ],
   "source": [
    "df_flight_activity.info() # no hay nulos"
   ]
  },
  {
   "cell_type": "code",
   "execution_count": null,
   "id": "06e966f0",
   "metadata": {},
   "outputs": [
    {
     "data": {
      "text/plain": [
       "1864"
      ]
     },
     "execution_count": 83,
     "metadata": {},
     "output_type": "execute_result"
    }
   ],
   "source": [
    "df_flight_activity.duplicated().sum()"
   ]
  },
  {
   "cell_type": "code",
   "execution_count": null,
   "id": "676f1c63",
   "metadata": {},
   "outputs": [
    {
     "data": {
      "text/plain": [
       "Loyalty Number\n",
       "678205    72\n",
       "989528    48\n",
       "373638    48\n",
       "684889    48\n",
       "684881    48\n",
       "          ..\n",
       "428526    24\n",
       "428536    24\n",
       "428565    24\n",
       "428590    24\n",
       "999891    24\n",
       "Name: count, Length: 16737, dtype: int64"
      ]
     },
     "execution_count": 85,
     "metadata": {},
     "output_type": "execute_result"
    }
   ],
   "source": [
    "df_flight_activity['Loyalty Number'].value_counts() # mi teoria es que son las veces que han volado, y si en el vuelo canjearon puntos"
   ]
  },
  {
   "cell_type": "code",
   "execution_count": null,
   "id": "082e6c3a",
   "metadata": {},
   "outputs": [],
   "source": [
    "df_flight_activity[df_flight_activity.duplicated()].sample(5) # observo un poco los datos\n",
    "# para ver TODOS los dupplicados: df_flight_activity[df_flight_activity.duplicated(keep=False)]"
   ]
  },
  {
   "cell_type": "code",
   "execution_count": null,
   "id": "5b04db93",
   "metadata": {},
   "outputs": [],
   "source": [
    "df_flight_activity = df_flight_activity.drop_duplicates() \n",
    "# al ser filas que carecen de valor al repetirse y no tener datos como distancia o puntos acululados \n",
    "# me lleva a pensar que realmente si es un error y no como pensaba al principio que podrian ser vuelos recurrentes para los clientes\n",
    "# asi que decido eliminarlas del dataframe"
   ]
  },
  {
   "cell_type": "code",
   "execution_count": 194,
   "id": "4e7f2288",
   "metadata": {},
   "outputs": [
    {
     "data": {
      "text/plain": [
       "(403760, 10)"
      ]
     },
     "execution_count": 194,
     "metadata": {},
     "output_type": "execute_result"
    }
   ],
   "source": [
    "df_flight_activity.shape"
   ]
  },
  {
   "cell_type": "code",
   "execution_count": null,
   "id": "205d9224",
   "metadata": {},
   "outputs": [
    {
     "data": {
      "text/html": [
       "<div>\n",
       "<style scoped>\n",
       "    .dataframe tbody tr th:only-of-type {\n",
       "        vertical-align: middle;\n",
       "    }\n",
       "\n",
       "    .dataframe tbody tr th {\n",
       "        vertical-align: top;\n",
       "    }\n",
       "\n",
       "    .dataframe thead th {\n",
       "        text-align: right;\n",
       "    }\n",
       "</style>\n",
       "<table border=\"1\" class=\"dataframe\">\n",
       "  <thead>\n",
       "    <tr style=\"text-align: right;\">\n",
       "      <th></th>\n",
       "      <th>Country</th>\n",
       "      <th>Province</th>\n",
       "      <th>City</th>\n",
       "      <th>Postal Code</th>\n",
       "      <th>Gender</th>\n",
       "      <th>Education</th>\n",
       "      <th>Salary</th>\n",
       "      <th>Marital Status</th>\n",
       "      <th>Loyalty Card</th>\n",
       "      <th>CLV</th>\n",
       "      <th>Enrollment Type</th>\n",
       "      <th>Enrollment Year</th>\n",
       "      <th>Enrollment Month</th>\n",
       "      <th>Cancellation Year</th>\n",
       "      <th>Cancellation Month</th>\n",
       "    </tr>\n",
       "    <tr>\n",
       "      <th>Loyalty Number</th>\n",
       "      <th></th>\n",
       "      <th></th>\n",
       "      <th></th>\n",
       "      <th></th>\n",
       "      <th></th>\n",
       "      <th></th>\n",
       "      <th></th>\n",
       "      <th></th>\n",
       "      <th></th>\n",
       "      <th></th>\n",
       "      <th></th>\n",
       "      <th></th>\n",
       "      <th></th>\n",
       "      <th></th>\n",
       "      <th></th>\n",
       "    </tr>\n",
       "  </thead>\n",
       "  <tbody>\n",
       "    <tr>\n",
       "      <th>480934</th>\n",
       "      <td>Canada</td>\n",
       "      <td>Ontario</td>\n",
       "      <td>Toronto</td>\n",
       "      <td>M2Z 4K1</td>\n",
       "      <td>Female</td>\n",
       "      <td>Bachelor</td>\n",
       "      <td>83236.0</td>\n",
       "      <td>Married</td>\n",
       "      <td>Star</td>\n",
       "      <td>3839.14</td>\n",
       "      <td>Standard</td>\n",
       "      <td>2016</td>\n",
       "      <td>2</td>\n",
       "      <td>NaN</td>\n",
       "      <td>NaN</td>\n",
       "    </tr>\n",
       "    <tr>\n",
       "      <th>549612</th>\n",
       "      <td>Canada</td>\n",
       "      <td>Alberta</td>\n",
       "      <td>Edmonton</td>\n",
       "      <td>T3G 6Y6</td>\n",
       "      <td>Male</td>\n",
       "      <td>College</td>\n",
       "      <td>NaN</td>\n",
       "      <td>Divorced</td>\n",
       "      <td>Star</td>\n",
       "      <td>3839.61</td>\n",
       "      <td>Standard</td>\n",
       "      <td>2016</td>\n",
       "      <td>3</td>\n",
       "      <td>NaN</td>\n",
       "      <td>NaN</td>\n",
       "    </tr>\n",
       "    <tr>\n",
       "      <th>429460</th>\n",
       "      <td>Canada</td>\n",
       "      <td>British Columbia</td>\n",
       "      <td>Vancouver</td>\n",
       "      <td>V6E 3D9</td>\n",
       "      <td>Male</td>\n",
       "      <td>College</td>\n",
       "      <td>NaN</td>\n",
       "      <td>Single</td>\n",
       "      <td>Star</td>\n",
       "      <td>3839.75</td>\n",
       "      <td>Standard</td>\n",
       "      <td>2014</td>\n",
       "      <td>7</td>\n",
       "      <td>2018.0</td>\n",
       "      <td>1.0</td>\n",
       "    </tr>\n",
       "    <tr>\n",
       "      <th>608370</th>\n",
       "      <td>Canada</td>\n",
       "      <td>Ontario</td>\n",
       "      <td>Toronto</td>\n",
       "      <td>P1W 1K4</td>\n",
       "      <td>Male</td>\n",
       "      <td>College</td>\n",
       "      <td>NaN</td>\n",
       "      <td>Single</td>\n",
       "      <td>Star</td>\n",
       "      <td>3839.75</td>\n",
       "      <td>Standard</td>\n",
       "      <td>2013</td>\n",
       "      <td>2</td>\n",
       "      <td>NaN</td>\n",
       "      <td>NaN</td>\n",
       "    </tr>\n",
       "    <tr>\n",
       "      <th>530508</th>\n",
       "      <td>Canada</td>\n",
       "      <td>Quebec</td>\n",
       "      <td>Hull</td>\n",
       "      <td>J8Y 3Z5</td>\n",
       "      <td>Male</td>\n",
       "      <td>Bachelor</td>\n",
       "      <td>103495.0</td>\n",
       "      <td>Married</td>\n",
       "      <td>Star</td>\n",
       "      <td>3842.79</td>\n",
       "      <td>Standard</td>\n",
       "      <td>2014</td>\n",
       "      <td>10</td>\n",
       "      <td>NaN</td>\n",
       "      <td>NaN</td>\n",
       "    </tr>\n",
       "  </tbody>\n",
       "</table>\n",
       "</div>"
      ],
      "text/plain": [
       "               Country          Province       City Postal Code  Gender  \\\n",
       "Loyalty Number                                                            \n",
       "480934          Canada           Ontario    Toronto     M2Z 4K1  Female   \n",
       "549612          Canada           Alberta   Edmonton     T3G 6Y6    Male   \n",
       "429460          Canada  British Columbia  Vancouver     V6E 3D9    Male   \n",
       "608370          Canada           Ontario    Toronto     P1W 1K4    Male   \n",
       "530508          Canada            Quebec       Hull     J8Y 3Z5    Male   \n",
       "\n",
       "               Education    Salary Marital Status Loyalty Card      CLV  \\\n",
       "Loyalty Number                                                            \n",
       "480934          Bachelor   83236.0        Married         Star  3839.14   \n",
       "549612           College       NaN       Divorced         Star  3839.61   \n",
       "429460           College       NaN         Single         Star  3839.75   \n",
       "608370           College       NaN         Single         Star  3839.75   \n",
       "530508          Bachelor  103495.0        Married         Star  3842.79   \n",
       "\n",
       "               Enrollment Type  Enrollment Year  Enrollment Month  \\\n",
       "Loyalty Number                                                      \n",
       "480934                Standard             2016                 2   \n",
       "549612                Standard             2016                 3   \n",
       "429460                Standard             2014                 7   \n",
       "608370                Standard             2013                 2   \n",
       "530508                Standard             2014                10   \n",
       "\n",
       "                Cancellation Year  Cancellation Month  \n",
       "Loyalty Number                                         \n",
       "480934                        NaN                 NaN  \n",
       "549612                        NaN                 NaN  \n",
       "429460                     2018.0                 1.0  \n",
       "608370                        NaN                 NaN  \n",
       "530508                        NaN                 NaN  "
      ]
     },
     "execution_count": 89,
     "metadata": {},
     "output_type": "execute_result"
    }
   ],
   "source": [
    "# no hay nulos en el dataframe, la unica fila que es float es puntos acumulados, compruebo si se pueden acumular puntos decimales\n",
    "df_loyalty_histori.head()"
   ]
  },
  {
   "cell_type": "code",
   "execution_count": 90,
   "id": "0d34420b",
   "metadata": {},
   "outputs": [
    {
     "data": {
      "text/plain": [
       "(16737, 15)"
      ]
     },
     "execution_count": 90,
     "metadata": {},
     "output_type": "execute_result"
    }
   ],
   "source": [
    "df_loyalty_histori.shape"
   ]
  },
  {
   "cell_type": "code",
   "execution_count": 292,
   "id": "3ccb0aec",
   "metadata": {},
   "outputs": [
    {
     "data": {
      "text/html": [
       "<div>\n",
       "<style scoped>\n",
       "    .dataframe tbody tr th:only-of-type {\n",
       "        vertical-align: middle;\n",
       "    }\n",
       "\n",
       "    .dataframe tbody tr th {\n",
       "        vertical-align: top;\n",
       "    }\n",
       "\n",
       "    .dataframe thead th {\n",
       "        text-align: right;\n",
       "    }\n",
       "</style>\n",
       "<table border=\"1\" class=\"dataframe\">\n",
       "  <thead>\n",
       "    <tr style=\"text-align: right;\">\n",
       "      <th></th>\n",
       "      <th>count</th>\n",
       "      <th>unique</th>\n",
       "      <th>top</th>\n",
       "      <th>freq</th>\n",
       "    </tr>\n",
       "  </thead>\n",
       "  <tbody>\n",
       "    <tr>\n",
       "      <th>Country</th>\n",
       "      <td>16737</td>\n",
       "      <td>1</td>\n",
       "      <td>Canada</td>\n",
       "      <td>16737</td>\n",
       "    </tr>\n",
       "    <tr>\n",
       "      <th>Province</th>\n",
       "      <td>16737</td>\n",
       "      <td>11</td>\n",
       "      <td>Ontario</td>\n",
       "      <td>5404</td>\n",
       "    </tr>\n",
       "    <tr>\n",
       "      <th>City</th>\n",
       "      <td>16737</td>\n",
       "      <td>29</td>\n",
       "      <td>Toronto</td>\n",
       "      <td>3351</td>\n",
       "    </tr>\n",
       "    <tr>\n",
       "      <th>Postal Code</th>\n",
       "      <td>16737</td>\n",
       "      <td>55</td>\n",
       "      <td>V6E 3D9</td>\n",
       "      <td>911</td>\n",
       "    </tr>\n",
       "    <tr>\n",
       "      <th>Gender</th>\n",
       "      <td>16737</td>\n",
       "      <td>2</td>\n",
       "      <td>Female</td>\n",
       "      <td>8410</td>\n",
       "    </tr>\n",
       "    <tr>\n",
       "      <th>Education</th>\n",
       "      <td>16737</td>\n",
       "      <td>5</td>\n",
       "      <td>Bachelor</td>\n",
       "      <td>10475</td>\n",
       "    </tr>\n",
       "    <tr>\n",
       "      <th>Marital Status</th>\n",
       "      <td>16737</td>\n",
       "      <td>3</td>\n",
       "      <td>Married</td>\n",
       "      <td>9735</td>\n",
       "    </tr>\n",
       "    <tr>\n",
       "      <th>Loyalty Card</th>\n",
       "      <td>16737</td>\n",
       "      <td>3</td>\n",
       "      <td>Star</td>\n",
       "      <td>7637</td>\n",
       "    </tr>\n",
       "    <tr>\n",
       "      <th>Enrollment Type</th>\n",
       "      <td>16737</td>\n",
       "      <td>2</td>\n",
       "      <td>Standard</td>\n",
       "      <td>15766</td>\n",
       "    </tr>\n",
       "  </tbody>\n",
       "</table>\n",
       "</div>"
      ],
      "text/plain": [
       "                 count unique       top   freq\n",
       "Country          16737      1    Canada  16737\n",
       "Province         16737     11   Ontario   5404\n",
       "City             16737     29   Toronto   3351\n",
       "Postal Code      16737     55   V6E 3D9    911\n",
       "Gender           16737      2    Female   8410\n",
       "Education        16737      5  Bachelor  10475\n",
       "Marital Status   16737      3   Married   9735\n",
       "Loyalty Card     16737      3      Star   7637\n",
       "Enrollment Type  16737      2  Standard  15766"
      ]
     },
     "execution_count": 292,
     "metadata": {},
     "output_type": "execute_result"
    }
   ],
   "source": [
    "df_loyalty_histori.describe(include = \"O\").T"
   ]
  },
  {
   "cell_type": "code",
   "execution_count": 293,
   "id": "286686f7",
   "metadata": {},
   "outputs": [
    {
     "data": {
      "text/html": [
       "<div>\n",
       "<style scoped>\n",
       "    .dataframe tbody tr th:only-of-type {\n",
       "        vertical-align: middle;\n",
       "    }\n",
       "\n",
       "    .dataframe tbody tr th {\n",
       "        vertical-align: top;\n",
       "    }\n",
       "\n",
       "    .dataframe thead th {\n",
       "        text-align: right;\n",
       "    }\n",
       "</style>\n",
       "<table border=\"1\" class=\"dataframe\">\n",
       "  <thead>\n",
       "    <tr style=\"text-align: right;\">\n",
       "      <th></th>\n",
       "      <th>count</th>\n",
       "      <th>mean</th>\n",
       "      <th>std</th>\n",
       "      <th>min</th>\n",
       "      <th>25%</th>\n",
       "      <th>50%</th>\n",
       "      <th>75%</th>\n",
       "      <th>max</th>\n",
       "    </tr>\n",
       "  </thead>\n",
       "  <tbody>\n",
       "    <tr>\n",
       "      <th>Salary</th>\n",
       "      <td>16737.0</td>\n",
       "      <td>76169.395520</td>\n",
       "      <td>30524.946927</td>\n",
       "      <td>9081.00</td>\n",
       "      <td>63899.00</td>\n",
       "      <td>66761.39</td>\n",
       "      <td>82940.00</td>\n",
       "      <td>407228.00</td>\n",
       "    </tr>\n",
       "    <tr>\n",
       "      <th>CLV</th>\n",
       "      <td>16737.0</td>\n",
       "      <td>7988.896536</td>\n",
       "      <td>6860.982280</td>\n",
       "      <td>1898.01</td>\n",
       "      <td>3980.84</td>\n",
       "      <td>5780.18</td>\n",
       "      <td>8940.58</td>\n",
       "      <td>83325.38</td>\n",
       "    </tr>\n",
       "    <tr>\n",
       "      <th>Enrollment Year</th>\n",
       "      <td>16737.0</td>\n",
       "      <td>2015.253211</td>\n",
       "      <td>1.979111</td>\n",
       "      <td>2012.00</td>\n",
       "      <td>2014.00</td>\n",
       "      <td>2015.00</td>\n",
       "      <td>2017.00</td>\n",
       "      <td>2018.00</td>\n",
       "    </tr>\n",
       "    <tr>\n",
       "      <th>Enrollment Month</th>\n",
       "      <td>16737.0</td>\n",
       "      <td>6.669116</td>\n",
       "      <td>3.398958</td>\n",
       "      <td>1.00</td>\n",
       "      <td>4.00</td>\n",
       "      <td>7.00</td>\n",
       "      <td>10.00</td>\n",
       "      <td>12.00</td>\n",
       "    </tr>\n",
       "    <tr>\n",
       "      <th>Cancellation Year</th>\n",
       "      <td>16737.0</td>\n",
       "      <td>249.035789</td>\n",
       "      <td>663.467530</td>\n",
       "      <td>0.00</td>\n",
       "      <td>0.00</td>\n",
       "      <td>0.00</td>\n",
       "      <td>0.00</td>\n",
       "      <td>2018.00</td>\n",
       "    </tr>\n",
       "    <tr>\n",
       "      <th>Cancellation Month</th>\n",
       "      <td>16737.0</td>\n",
       "      <td>0.859891</td>\n",
       "      <td>2.592671</td>\n",
       "      <td>0.00</td>\n",
       "      <td>0.00</td>\n",
       "      <td>0.00</td>\n",
       "      <td>0.00</td>\n",
       "      <td>12.00</td>\n",
       "    </tr>\n",
       "  </tbody>\n",
       "</table>\n",
       "</div>"
      ],
      "text/plain": [
       "                      count          mean           std      min       25%  \\\n",
       "Salary              16737.0  76169.395520  30524.946927  9081.00  63899.00   \n",
       "CLV                 16737.0   7988.896536   6860.982280  1898.01   3980.84   \n",
       "Enrollment Year     16737.0   2015.253211      1.979111  2012.00   2014.00   \n",
       "Enrollment Month    16737.0      6.669116      3.398958     1.00      4.00   \n",
       "Cancellation Year   16737.0    249.035789    663.467530     0.00      0.00   \n",
       "Cancellation Month  16737.0      0.859891      2.592671     0.00      0.00   \n",
       "\n",
       "                         50%       75%        max  \n",
       "Salary              66761.39  82940.00  407228.00  \n",
       "CLV                  5780.18   8940.58   83325.38  \n",
       "Enrollment Year      2015.00   2017.00    2018.00  \n",
       "Enrollment Month        7.00     10.00      12.00  \n",
       "Cancellation Year       0.00      0.00    2018.00  \n",
       "Cancellation Month      0.00      0.00      12.00  "
      ]
     },
     "execution_count": 293,
     "metadata": {},
     "output_type": "execute_result"
    }
   ],
   "source": [
    "df_loyalty_histori.describe().T"
   ]
  },
  {
   "cell_type": "code",
   "execution_count": null,
   "id": "2a86438e",
   "metadata": {},
   "outputs": [
    {
     "name": "stdout",
     "output_type": "stream",
     "text": [
      "<class 'pandas.core.frame.DataFrame'>\n",
      "Index: 16737 entries, 480934 to 652627\n",
      "Data columns (total 15 columns):\n",
      " #   Column              Non-Null Count  Dtype  \n",
      "---  ------              --------------  -----  \n",
      " 0   Country             16737 non-null  object \n",
      " 1   Province            16737 non-null  object \n",
      " 2   City                16737 non-null  object \n",
      " 3   Postal Code         16737 non-null  object \n",
      " 4   Gender              16737 non-null  object \n",
      " 5   Education           16737 non-null  object \n",
      " 6   Salary              12499 non-null  float64\n",
      " 7   Marital Status      16737 non-null  object \n",
      " 8   Loyalty Card        16737 non-null  object \n",
      " 9   CLV                 16737 non-null  float64\n",
      " 10  Enrollment Type     16737 non-null  object \n",
      " 11  Enrollment Year     16737 non-null  int64  \n",
      " 12  Enrollment Month    16737 non-null  int64  \n",
      " 13  Cancellation Year   2067 non-null   float64\n",
      " 14  Cancellation Month  2067 non-null   float64\n",
      "dtypes: float64(4), int64(2), object(9)\n",
      "memory usage: 2.0+ MB\n"
     ]
    }
   ],
   "source": [
    "df_loyalty_histori.info()\n",
    "# en salary hay nulos y negativos, en cancelation year y cancelation month hay nulos"
   ]
  },
  {
   "cell_type": "code",
   "execution_count": 93,
   "id": "c45fd6fb",
   "metadata": {},
   "outputs": [],
   "source": [
    "df_loyalty_histori['Salary'] = df_loyalty_histori['Salary'].astype(str)\n",
    "df_loyalty_histori['Salary'] = df_loyalty_histori['Salary'].str.replace('-','') # quito el -\n",
    "df_loyalty_histori['Salary'] = df_loyalty_histori['Salary'].astype(float)"
   ]
  },
  {
   "cell_type": "code",
   "execution_count": 94,
   "id": "15419dbb",
   "metadata": {},
   "outputs": [
    {
     "data": {
      "text/plain": [
       "array([ 83236.,     nan, 103495., ...,  76178.,  91970.,  57297.])"
      ]
     },
     "execution_count": 94,
     "metadata": {},
     "output_type": "execute_result"
    }
   ],
   "source": [
    "df_loyalty_histori['Salary'].unique()"
   ]
  },
  {
   "cell_type": "code",
   "execution_count": null,
   "id": "2ba02cc2",
   "metadata": {},
   "outputs": [
    {
     "data": {
      "text/plain": [
       "array(['Bachelor', 'College', 'Master', 'High School or Below', 'Doctor'],\n",
       "      dtype=object)"
      ]
     },
     "execution_count": 37,
     "metadata": {},
     "output_type": "execute_result"
    }
   ],
   "source": [
    "# como pais es el mismo, hare una media de que gana cada educacion y asi rellenare los nan\n",
    "df_loyalty_histori['Country'].unique()\n",
    "df_loyalty_histori['Education'].unique() "
   ]
  },
  {
   "cell_type": "code",
   "execution_count": 97,
   "id": "678a32a0",
   "metadata": {},
   "outputs": [
    {
     "data": {
      "text/plain": [
       "Education\n",
       "Bachelor                 72577.25\n",
       "College                       NaN\n",
       "Doctor                  178608.90\n",
       "High School or Below     61199.16\n",
       "Master                  103757.85\n",
       "Name: Salary, dtype: float64"
      ]
     },
     "execution_count": 97,
     "metadata": {},
     "output_type": "execute_result"
    }
   ],
   "source": [
    "round(df_loyalty_histori.groupby(\"Education\")[\"Salary\"].mean(), 2)\n",
    "# no hay ningun registro de college"
   ]
  },
  {
   "cell_type": "code",
   "execution_count": 98,
   "id": "4d333e69",
   "metadata": {},
   "outputs": [
    {
     "data": {
      "text/plain": [
       "66761.39"
      ]
     },
     "execution_count": 98,
     "metadata": {},
     "output_type": "execute_result"
    }
   ],
   "source": [
    "media_college = (72451.06+61071.72)/2 \n",
    "media_college # como college esta entre bachelor y high school hago media de ambos y relleno"
   ]
  },
  {
   "cell_type": "code",
   "execution_count": null,
   "id": "46fe168a",
   "metadata": {},
   "outputs": [],
   "source": [
    "df_loyalty_histori[df_loyalty_histori[\"Education\"] == \"College\"] # 4238\n",
    "df_loyalty_histori[df_loyalty_histori['Salary'].isna()] # 4238  para confirmar que todos los nan son de college"
   ]
  },
  {
   "cell_type": "code",
   "execution_count": null,
   "id": "8bacdb21",
   "metadata": {},
   "outputs": [],
   "source": [
    "df_loyalty_histori['Salary'] = df_loyalty_histori['Salary'].fillna(media_college) # la anterior celda lo confirma"
   ]
  },
  {
   "cell_type": "code",
   "execution_count": 200,
   "id": "934d3e39",
   "metadata": {},
   "outputs": [],
   "source": [
    "# los otros nulos pertenecen a las columnas de fin de membresia, si aplica\n",
    "# supongo que esas personas no han cancelado y sigue activa su membresia por lo que cambiare los nan por 0\n",
    "df_loyalty_histori['Cancellation Year'] = df_loyalty_histori['Cancellation Year'].fillna(0)\n",
    "df_loyalty_histori['Cancellation Month'] = df_loyalty_histori['Cancellation Month'].fillna(0)"
   ]
  },
  {
   "cell_type": "code",
   "execution_count": 286,
   "id": "52f049da",
   "metadata": {},
   "outputs": [
    {
     "data": {
      "text/html": [
       "<div>\n",
       "<style scoped>\n",
       "    .dataframe tbody tr th:only-of-type {\n",
       "        vertical-align: middle;\n",
       "    }\n",
       "\n",
       "    .dataframe tbody tr th {\n",
       "        vertical-align: top;\n",
       "    }\n",
       "\n",
       "    .dataframe thead th {\n",
       "        text-align: right;\n",
       "    }\n",
       "</style>\n",
       "<table border=\"1\" class=\"dataframe\">\n",
       "  <thead>\n",
       "    <tr style=\"text-align: right;\">\n",
       "      <th></th>\n",
       "      <th>Country</th>\n",
       "      <th>Province</th>\n",
       "      <th>City</th>\n",
       "      <th>Postal Code</th>\n",
       "      <th>Gender</th>\n",
       "      <th>Education</th>\n",
       "      <th>Salary</th>\n",
       "      <th>Marital Status</th>\n",
       "      <th>Loyalty Card</th>\n",
       "      <th>CLV</th>\n",
       "      <th>Enrollment Type</th>\n",
       "      <th>Enrollment Year</th>\n",
       "      <th>Enrollment Month</th>\n",
       "      <th>Cancellation Year</th>\n",
       "      <th>Cancellation Month</th>\n",
       "    </tr>\n",
       "    <tr>\n",
       "      <th>Loyalty Number</th>\n",
       "      <th></th>\n",
       "      <th></th>\n",
       "      <th></th>\n",
       "      <th></th>\n",
       "      <th></th>\n",
       "      <th></th>\n",
       "      <th></th>\n",
       "      <th></th>\n",
       "      <th></th>\n",
       "      <th></th>\n",
       "      <th></th>\n",
       "      <th></th>\n",
       "      <th></th>\n",
       "      <th></th>\n",
       "      <th></th>\n",
       "    </tr>\n",
       "  </thead>\n",
       "  <tbody>\n",
       "    <tr>\n",
       "      <th>955652</th>\n",
       "      <td>Canada</td>\n",
       "      <td>Ontario</td>\n",
       "      <td>Thunder Bay</td>\n",
       "      <td>K8T 5M5</td>\n",
       "      <td>Female</td>\n",
       "      <td>Bachelor</td>\n",
       "      <td>97432.00</td>\n",
       "      <td>Married</td>\n",
       "      <td>Nova</td>\n",
       "      <td>32104.70</td>\n",
       "      <td>Standard</td>\n",
       "      <td>2018</td>\n",
       "      <td>12</td>\n",
       "      <td>0.0</td>\n",
       "      <td>0.0</td>\n",
       "    </tr>\n",
       "    <tr>\n",
       "      <th>374639</th>\n",
       "      <td>Canada</td>\n",
       "      <td>British Columbia</td>\n",
       "      <td>West Vancouver</td>\n",
       "      <td>V6V 8Z3</td>\n",
       "      <td>Female</td>\n",
       "      <td>College</td>\n",
       "      <td>66761.39</td>\n",
       "      <td>Married</td>\n",
       "      <td>Nova</td>\n",
       "      <td>4102.20</td>\n",
       "      <td>Standard</td>\n",
       "      <td>2012</td>\n",
       "      <td>11</td>\n",
       "      <td>0.0</td>\n",
       "      <td>0.0</td>\n",
       "    </tr>\n",
       "    <tr>\n",
       "      <th>204840</th>\n",
       "      <td>Canada</td>\n",
       "      <td>British Columbia</td>\n",
       "      <td>West Vancouver</td>\n",
       "      <td>V6V 8Z3</td>\n",
       "      <td>Female</td>\n",
       "      <td>Bachelor</td>\n",
       "      <td>72817.00</td>\n",
       "      <td>Married</td>\n",
       "      <td>Aurora</td>\n",
       "      <td>16681.33</td>\n",
       "      <td>Standard</td>\n",
       "      <td>2015</td>\n",
       "      <td>12</td>\n",
       "      <td>2016.0</td>\n",
       "      <td>8.0</td>\n",
       "    </tr>\n",
       "  </tbody>\n",
       "</table>\n",
       "</div>"
      ],
      "text/plain": [
       "               Country          Province            City Postal Code  Gender  \\\n",
       "Loyalty Number                                                                 \n",
       "955652          Canada           Ontario     Thunder Bay     K8T 5M5  Female   \n",
       "374639          Canada  British Columbia  West Vancouver     V6V 8Z3  Female   \n",
       "204840          Canada  British Columbia  West Vancouver     V6V 8Z3  Female   \n",
       "\n",
       "               Education    Salary Marital Status Loyalty Card       CLV  \\\n",
       "Loyalty Number                                                             \n",
       "955652          Bachelor  97432.00        Married         Nova  32104.70   \n",
       "374639           College  66761.39        Married         Nova   4102.20   \n",
       "204840          Bachelor  72817.00        Married       Aurora  16681.33   \n",
       "\n",
       "               Enrollment Type  Enrollment Year  Enrollment Month  \\\n",
       "Loyalty Number                                                      \n",
       "955652                Standard             2018                12   \n",
       "374639                Standard             2012                11   \n",
       "204840                Standard             2015                12   \n",
       "\n",
       "                Cancellation Year  Cancellation Month  \n",
       "Loyalty Number                                         \n",
       "955652                        0.0                 0.0  \n",
       "374639                        0.0                 0.0  \n",
       "204840                     2016.0                 8.0  "
      ]
     },
     "execution_count": 286,
     "metadata": {},
     "output_type": "execute_result"
    }
   ],
   "source": [
    "df_loyalty_histori.sample(3)"
   ]
  },
  {
   "cell_type": "code",
   "execution_count": 50,
   "id": "7bf743b7",
   "metadata": {},
   "outputs": [
    {
     "data": {
      "text/plain": [
       "Index(['Country', 'Province', 'City', 'Postal Code', 'Gender', 'Education',\n",
       "       'Salary', 'Marital Status', 'Loyalty Card', 'CLV', 'Enrollment Type',\n",
       "       'Enrollment Year', 'Enrollment Month', 'Cancellation Year',\n",
       "       'Cancellation Month'],\n",
       "      dtype='object')"
      ]
     },
     "execution_count": 50,
     "metadata": {},
     "output_type": "execute_result"
    }
   ],
   "source": [
    "df_loyalty_histori.columns"
   ]
  },
  {
   "cell_type": "code",
   "execution_count": null,
   "id": "2d769d79",
   "metadata": {},
   "outputs": [
    {
     "data": {
      "text/plain": [
       "0"
      ]
     },
     "execution_count": 102,
     "metadata": {},
     "output_type": "execute_result"
    }
   ],
   "source": [
    "# compruebo duplicados:\n",
    "df_loyalty_histori.duplicated().sum()\n"
   ]
  },
  {
   "cell_type": "code",
   "execution_count": 202,
   "id": "97040af7",
   "metadata": {},
   "outputs": [],
   "source": [
    "df_completo = df_flight_activity.merge(df_loyalty_histori, on=\"Loyalty Number\", how=\"left\")"
   ]
  },
  {
   "cell_type": "code",
   "execution_count": 287,
   "id": "f15cb260",
   "metadata": {},
   "outputs": [
    {
     "data": {
      "text/html": [
       "<div>\n",
       "<style scoped>\n",
       "    .dataframe tbody tr th:only-of-type {\n",
       "        vertical-align: middle;\n",
       "    }\n",
       "\n",
       "    .dataframe tbody tr th {\n",
       "        vertical-align: top;\n",
       "    }\n",
       "\n",
       "    .dataframe thead th {\n",
       "        text-align: right;\n",
       "    }\n",
       "</style>\n",
       "<table border=\"1\" class=\"dataframe\">\n",
       "  <thead>\n",
       "    <tr style=\"text-align: right;\">\n",
       "      <th></th>\n",
       "      <th>Loyalty Number</th>\n",
       "      <th>Year</th>\n",
       "      <th>Month</th>\n",
       "      <th>Flights Booked</th>\n",
       "      <th>Flights with Companions</th>\n",
       "      <th>Total Flights</th>\n",
       "      <th>Distance</th>\n",
       "      <th>Points Accumulated</th>\n",
       "      <th>Points Redeemed</th>\n",
       "      <th>Dollar Cost Points Redeemed</th>\n",
       "      <th>Country</th>\n",
       "      <th>Province</th>\n",
       "      <th>City</th>\n",
       "      <th>Postal Code</th>\n",
       "      <th>Gender</th>\n",
       "      <th>Education</th>\n",
       "      <th>Salary</th>\n",
       "      <th>Marital Status</th>\n",
       "      <th>Loyalty Card</th>\n",
       "      <th>CLV</th>\n",
       "      <th>Enrollment Type</th>\n",
       "      <th>Enrollment Year</th>\n",
       "      <th>Enrollment Month</th>\n",
       "      <th>Cancellation Year</th>\n",
       "      <th>Cancellation Month</th>\n",
       "    </tr>\n",
       "  </thead>\n",
       "  <tbody>\n",
       "    <tr>\n",
       "      <th>296809</th>\n",
       "      <td>683838</td>\n",
       "      <td>2018</td>\n",
       "      <td>6</td>\n",
       "      <td>2</td>\n",
       "      <td>2</td>\n",
       "      <td>4</td>\n",
       "      <td>4108</td>\n",
       "      <td>410.0</td>\n",
       "      <td>0</td>\n",
       "      <td>0</td>\n",
       "      <td>Canada</td>\n",
       "      <td>British Columbia</td>\n",
       "      <td>Vancouver</td>\n",
       "      <td>V6E 3D9</td>\n",
       "      <td>Male</td>\n",
       "      <td>Bachelor</td>\n",
       "      <td>93731.0</td>\n",
       "      <td>Married</td>\n",
       "      <td>Nova</td>\n",
       "      <td>19643.54</td>\n",
       "      <td>Standard</td>\n",
       "      <td>2017</td>\n",
       "      <td>11</td>\n",
       "      <td>0.0</td>\n",
       "      <td>0.0</td>\n",
       "    </tr>\n",
       "    <tr>\n",
       "      <th>356174</th>\n",
       "      <td>132756</td>\n",
       "      <td>2018</td>\n",
       "      <td>7</td>\n",
       "      <td>6</td>\n",
       "      <td>6</td>\n",
       "      <td>12</td>\n",
       "      <td>1428</td>\n",
       "      <td>142.0</td>\n",
       "      <td>704</td>\n",
       "      <td>57</td>\n",
       "      <td>Canada</td>\n",
       "      <td>Quebec</td>\n",
       "      <td>Montreal</td>\n",
       "      <td>H2T 2J6</td>\n",
       "      <td>Female</td>\n",
       "      <td>Bachelor</td>\n",
       "      <td>75990.0</td>\n",
       "      <td>Married</td>\n",
       "      <td>Nova</td>\n",
       "      <td>3238.00</td>\n",
       "      <td>Standard</td>\n",
       "      <td>2017</td>\n",
       "      <td>8</td>\n",
       "      <td>0.0</td>\n",
       "      <td>0.0</td>\n",
       "    </tr>\n",
       "    <tr>\n",
       "      <th>381383</th>\n",
       "      <td>704149</td>\n",
       "      <td>2018</td>\n",
       "      <td>11</td>\n",
       "      <td>5</td>\n",
       "      <td>5</td>\n",
       "      <td>10</td>\n",
       "      <td>1330</td>\n",
       "      <td>133.0</td>\n",
       "      <td>0</td>\n",
       "      <td>0</td>\n",
       "      <td>Canada</td>\n",
       "      <td>Quebec</td>\n",
       "      <td>Montreal</td>\n",
       "      <td>H2T 2J6</td>\n",
       "      <td>Female</td>\n",
       "      <td>Bachelor</td>\n",
       "      <td>48525.0</td>\n",
       "      <td>Married</td>\n",
       "      <td>Star</td>\n",
       "      <td>25805.27</td>\n",
       "      <td>Standard</td>\n",
       "      <td>2013</td>\n",
       "      <td>4</td>\n",
       "      <td>0.0</td>\n",
       "      <td>0.0</td>\n",
       "    </tr>\n",
       "    <tr>\n",
       "      <th>149697</th>\n",
       "      <td>913809</td>\n",
       "      <td>2017</td>\n",
       "      <td>9</td>\n",
       "      <td>0</td>\n",
       "      <td>0</td>\n",
       "      <td>0</td>\n",
       "      <td>0</td>\n",
       "      <td>0.0</td>\n",
       "      <td>0</td>\n",
       "      <td>0</td>\n",
       "      <td>Canada</td>\n",
       "      <td>Quebec</td>\n",
       "      <td>Montreal</td>\n",
       "      <td>H2T 9K8</td>\n",
       "      <td>Female</td>\n",
       "      <td>Bachelor</td>\n",
       "      <td>51109.0</td>\n",
       "      <td>Married</td>\n",
       "      <td>Nova</td>\n",
       "      <td>2926.83</td>\n",
       "      <td>Standard</td>\n",
       "      <td>2014</td>\n",
       "      <td>2</td>\n",
       "      <td>2014.0</td>\n",
       "      <td>10.0</td>\n",
       "    </tr>\n",
       "    <tr>\n",
       "      <th>361199</th>\n",
       "      <td>526586</td>\n",
       "      <td>2018</td>\n",
       "      <td>10</td>\n",
       "      <td>0</td>\n",
       "      <td>0</td>\n",
       "      <td>0</td>\n",
       "      <td>0</td>\n",
       "      <td>0.0</td>\n",
       "      <td>0</td>\n",
       "      <td>0</td>\n",
       "      <td>Canada</td>\n",
       "      <td>Ontario</td>\n",
       "      <td>Kingston</td>\n",
       "      <td>M9K 2P4</td>\n",
       "      <td>Male</td>\n",
       "      <td>Bachelor</td>\n",
       "      <td>50337.0</td>\n",
       "      <td>Married</td>\n",
       "      <td>Nova</td>\n",
       "      <td>4683.44</td>\n",
       "      <td>Standard</td>\n",
       "      <td>2016</td>\n",
       "      <td>1</td>\n",
       "      <td>0.0</td>\n",
       "      <td>0.0</td>\n",
       "    </tr>\n",
       "  </tbody>\n",
       "</table>\n",
       "</div>"
      ],
      "text/plain": [
       "        Loyalty Number  Year  Month  Flights Booked  Flights with Companions  \\\n",
       "296809          683838  2018      6               2                        2   \n",
       "356174          132756  2018      7               6                        6   \n",
       "381383          704149  2018     11               5                        5   \n",
       "149697          913809  2017      9               0                        0   \n",
       "361199          526586  2018     10               0                        0   \n",
       "\n",
       "        Total Flights  Distance  Points Accumulated  Points Redeemed  \\\n",
       "296809              4      4108               410.0                0   \n",
       "356174             12      1428               142.0              704   \n",
       "381383             10      1330               133.0                0   \n",
       "149697              0         0                 0.0                0   \n",
       "361199              0         0                 0.0                0   \n",
       "\n",
       "        Dollar Cost Points Redeemed Country          Province       City  \\\n",
       "296809                            0  Canada  British Columbia  Vancouver   \n",
       "356174                           57  Canada            Quebec   Montreal   \n",
       "381383                            0  Canada            Quebec   Montreal   \n",
       "149697                            0  Canada            Quebec   Montreal   \n",
       "361199                            0  Canada           Ontario   Kingston   \n",
       "\n",
       "       Postal Code  Gender Education   Salary Marital Status Loyalty Card  \\\n",
       "296809     V6E 3D9    Male  Bachelor  93731.0        Married         Nova   \n",
       "356174     H2T 2J6  Female  Bachelor  75990.0        Married         Nova   \n",
       "381383     H2T 2J6  Female  Bachelor  48525.0        Married         Star   \n",
       "149697     H2T 9K8  Female  Bachelor  51109.0        Married         Nova   \n",
       "361199     M9K 2P4    Male  Bachelor  50337.0        Married         Nova   \n",
       "\n",
       "             CLV Enrollment Type  Enrollment Year  Enrollment Month  \\\n",
       "296809  19643.54        Standard             2017                11   \n",
       "356174   3238.00        Standard             2017                 8   \n",
       "381383  25805.27        Standard             2013                 4   \n",
       "149697   2926.83        Standard             2014                 2   \n",
       "361199   4683.44        Standard             2016                 1   \n",
       "\n",
       "        Cancellation Year  Cancellation Month  \n",
       "296809                0.0                 0.0  \n",
       "356174                0.0                 0.0  \n",
       "381383                0.0                 0.0  \n",
       "149697             2014.0                10.0  \n",
       "361199                0.0                 0.0  "
      ]
     },
     "execution_count": 287,
     "metadata": {},
     "output_type": "execute_result"
    }
   ],
   "source": [
    "df_completo.sample(5)"
   ]
  },
  {
   "cell_type": "markdown",
   "id": "2d91e527",
   "metadata": {},
   "source": [
    "1. ¿Cómo se distribuye la cantidad de vuelos reservados por mes durante el año?"
   ]
  },
  {
   "cell_type": "code",
   "execution_count": 284,
   "id": "a993b537",
   "metadata": {},
   "outputs": [
    {
     "data": {
      "text/plain": [
       "array([2017, 2018], dtype=int64)"
      ]
     },
     "execution_count": 284,
     "metadata": {},
     "output_type": "execute_result"
    }
   ],
   "source": [
    "# tenemos los datos de dos años unicamente, entonces voy a dividir el dataframe entre los dos años y despues ver la cantidad de vuelos comprados por mes\n",
    "df_flight_activity['Year'].unique()"
   ]
  },
  {
   "cell_type": "code",
   "execution_count": 211,
   "id": "87cdbbe1",
   "metadata": {},
   "outputs": [],
   "source": [
    "vuelos_2017 = df_flight_activity[df_flight_activity['Year'] == 2017]\n",
    "vuelos_2018 = df_flight_activity[df_flight_activity['Year'] == 2018]"
   ]
  },
  {
   "cell_type": "code",
   "execution_count": null,
   "id": "fb61d4df",
   "metadata": {},
   "outputs": [],
   "source": [
    "# hago subplots, con un barplot y un boxplot por cada año\n",
    "# el barplot para ver la cantidad de vuelos por mes en el año correspondiente\n",
    "# el boxplot para ver la dispersion entre reservas"
   ]
  },
  {
   "cell_type": "code",
   "execution_count": 233,
   "id": "a86463c8",
   "metadata": {},
   "outputs": [
    {
     "name": "stderr",
     "output_type": "stream",
     "text": [
      "C:\\Users\\miria\\AppData\\Local\\Temp\\ipykernel_28264\\3067034737.py:12: FutureWarning: \n",
      "\n",
      "The `ci` parameter is deprecated. Use `errorbar=None` for the same effect.\n",
      "\n",
      "  sns.barplot(x=\"Month\",\n",
      "C:\\Users\\miria\\AppData\\Local\\Temp\\ipykernel_28264\\3067034737.py:31: FutureWarning: \n",
      "\n",
      "The `ci` parameter is deprecated. Use `errorbar=None` for the same effect.\n",
      "\n",
      "  sns.barplot(x=\"Month\",\n"
     ]
    },
    {
     "data": {
      "text/plain": [
       "Text(0, 0.5, 'Total de vuelos')"
      ]
     },
     "execution_count": 233,
     "metadata": {},
     "output_type": "execute_result"
    },
    {
     "data": {
      "image/png": "[encoded data removed]",
      "text/plain": [
       "<Figure size 3000x1000 with 4 Axes>"
      ]
     },
     "metadata": {},
     "output_type": "display_data"
    }
   ],
   "source": [
    "fig, axes = plt.subplots(nrows = 2, ncols = 2, figsize = (30, 10))\n",
    "\n",
    "sns.boxplot(y = \"Flights Booked\", \n",
    "            x = \"Month\",\n",
    "            data = vuelos_2017, \n",
    "            width = 0.5, \n",
    "            color = \"turquoise\", \n",
    "            ax = axes[0][0])\n",
    "axes[0][0].set_title(\"Vuelos reservados por mes en 2017\")\n",
    "axes[0][0].set_xlabel(\"Mes\")\n",
    "axes[0][0].set_ylabel(\"Total de vuelos\")\n",
    "sns.barplot(x=\"Month\", \n",
    "            y=\"Flights Booked\",\n",
    "            data=vuelos_2017,\n",
    "            estimator=\"sum\", \n",
    "            ci=None,\n",
    "            ax = axes[0][1]) # para quitar la linea\n",
    "axes[0][1].set_title(\"Vuelos reservados por mes en 2017\")\n",
    "axes[0][1].set_xlabel(\"Mes\")\n",
    "axes[0][1].set_ylabel(\"Total de vuelos\")\n",
    "\n",
    "sns.boxplot(y = \"Flights Booked\", \n",
    "            x = \"Month\",\n",
    "            data = vuelos_2018, \n",
    "            width = 0.5, \n",
    "            color = \"turquoise\", \n",
    "            ax = axes[1][0])\n",
    "axes[1][0].set_title(\"Vuelos reservados por mes en 2018\")\n",
    "axes[1][0].set_xlabel(\"Mes\")\n",
    "axes[1][0].set_ylabel(\"Total de vuelos\")\n",
    "sns.barplot(x=\"Month\", \n",
    "            y=\"Flights Booked\",\n",
    "            data=vuelos_2018,\n",
    "            estimator=\"sum\", \n",
    "            ci=None,\n",
    "            ax = axes[1][1])\n",
    "axes[1][1].set_title(\"Vuelos reservados por mes en 2018\")\n",
    "axes[1][1].set_xlabel(\"Mes\")\n",
    "axes[1][1].set_ylabel(\"Total de vuelos\")\n"
   ]
  },
  {
   "cell_type": "markdown",
   "id": "e03e4ce4",
   "metadata": {},
   "source": [
    "Conclusión: podemos ver como en 2017 y 2018 se distribuyen de forma parecida las reservas, el boxplot indica en ambos años que el mayor numero de reservas que se hizo por cliente se concentra entre los meses de junio, julio y agosto y en diciembre. El barplot indica el numero total de reservas por mes, en ambos años los meses de mayor cantidad de compra de vuelos se realizan en junio, julio, agosto y diciembre, mientras que en los meses de enero y febrero son los meses de menor venta de vuelos de la compañia"
   ]
  },
  {
   "cell_type": "markdown",
   "id": "6557a729",
   "metadata": {},
   "source": [
    "2. ¿Existe una relación entre la distancia de los vuelos y los puntos acumulados por los cliente?"
   ]
  },
  {
   "cell_type": "code",
   "execution_count": 240,
   "id": "3b706143",
   "metadata": {},
   "outputs": [
    {
     "data": {
      "text/html": [
       "<div>\n",
       "<style scoped>\n",
       "    .dataframe tbody tr th:only-of-type {\n",
       "        vertical-align: middle;\n",
       "    }\n",
       "\n",
       "    .dataframe tbody tr th {\n",
       "        vertical-align: top;\n",
       "    }\n",
       "\n",
       "    .dataframe thead th {\n",
       "        text-align: right;\n",
       "    }\n",
       "</style>\n",
       "<table border=\"1\" class=\"dataframe\">\n",
       "  <thead>\n",
       "    <tr style=\"text-align: right;\">\n",
       "      <th></th>\n",
       "      <th>Distance</th>\n",
       "      <th>Points Accumulated</th>\n",
       "    </tr>\n",
       "  </thead>\n",
       "  <tbody>\n",
       "    <tr>\n",
       "      <th>271028</th>\n",
       "      <td>2354</td>\n",
       "      <td>235.00</td>\n",
       "    </tr>\n",
       "    <tr>\n",
       "      <th>50597</th>\n",
       "      <td>3587</td>\n",
       "      <td>386.64</td>\n",
       "    </tr>\n",
       "    <tr>\n",
       "      <th>395402</th>\n",
       "      <td>3498</td>\n",
       "      <td>349.00</td>\n",
       "    </tr>\n",
       "    <tr>\n",
       "      <th>173670</th>\n",
       "      <td>2720</td>\n",
       "      <td>272.00</td>\n",
       "    </tr>\n",
       "    <tr>\n",
       "      <th>340769</th>\n",
       "      <td>3484</td>\n",
       "      <td>348.00</td>\n",
       "    </tr>\n",
       "    <tr>\n",
       "      <th>226083</th>\n",
       "      <td>0</td>\n",
       "      <td>0.00</td>\n",
       "    </tr>\n",
       "    <tr>\n",
       "      <th>178809</th>\n",
       "      <td>0</td>\n",
       "      <td>0.00</td>\n",
       "    </tr>\n",
       "    <tr>\n",
       "      <th>13471</th>\n",
       "      <td>1380</td>\n",
       "      <td>138.00</td>\n",
       "    </tr>\n",
       "    <tr>\n",
       "      <th>57151</th>\n",
       "      <td>0</td>\n",
       "      <td>0.00</td>\n",
       "    </tr>\n",
       "    <tr>\n",
       "      <th>320349</th>\n",
       "      <td>2284</td>\n",
       "      <td>228.00</td>\n",
       "    </tr>\n",
       "  </tbody>\n",
       "</table>\n",
       "</div>"
      ],
      "text/plain": [
       "        Distance  Points Accumulated\n",
       "271028      2354              235.00\n",
       "50597       3587              386.64\n",
       "395402      3498              349.00\n",
       "173670      2720              272.00\n",
       "340769      3484              348.00\n",
       "226083         0                0.00\n",
       "178809         0                0.00\n",
       "13471       1380              138.00\n",
       "57151          0                0.00\n",
       "320349      2284              228.00"
      ]
     },
     "execution_count": 240,
     "metadata": {},
     "output_type": "execute_result"
    }
   ],
   "source": [
    "# los puntos acumulados estan directamente relacionados con la distancia de los vuelos como he podido observar en la limpieza del dataframe\n",
    "df_completo[['Distance','Points Accumulated']].sample(10)"
   ]
  },
  {
   "cell_type": "code",
   "execution_count": 242,
   "id": "7b4e8c99",
   "metadata": {},
   "outputs": [
    {
     "data": {
      "text/plain": [
       "Text(0.5, 1.0, 'Relación entre la distancia recorrida y los puntos acumulados')"
      ]
     },
     "execution_count": 242,
     "metadata": {},
     "output_type": "execute_result"
    },
    {
     "data": {
      "image/png": "[encoded data removed]",
      "text/plain": [
       "<Figure size 640x480 with 1 Axes>"
      ]
     },
     "metadata": {},
     "output_type": "display_data"
    }
   ],
   "source": [
    "sns.regplot(x = \"Distance\", \n",
    "            y = \"Points Accumulated\", \n",
    "            data = df_completo, \n",
    "            marker = \"o\", \n",
    "            line_kws = {\"color\": \"black\", \"linewidth\": 1},\n",
    "            scatter_kws = {\"color\": \"red\", \"s\": 1} \n",
    "            )\n",
    "plt.xlabel(\"Distancia\")\n",
    "plt.ylabel(\"Puntos acumulados\")\n",
    "plt.title(\"Relación entre la distancia recorrida y los puntos acumulados\")"
   ]
  },
  {
   "cell_type": "code",
   "execution_count": null,
   "id": "848b6732",
   "metadata": {},
   "outputs": [
    {
     "data": {
      "text/html": [
       "<div>\n",
       "<style scoped>\n",
       "    .dataframe tbody tr th:only-of-type {\n",
       "        vertical-align: middle;\n",
       "    }\n",
       "\n",
       "    .dataframe tbody tr th {\n",
       "        vertical-align: top;\n",
       "    }\n",
       "\n",
       "    .dataframe thead th {\n",
       "        text-align: right;\n",
       "    }\n",
       "</style>\n",
       "<table border=\"1\" class=\"dataframe\">\n",
       "  <thead>\n",
       "    <tr style=\"text-align: right;\">\n",
       "      <th></th>\n",
       "      <th>Distance</th>\n",
       "      <th>Points Accumulated</th>\n",
       "    </tr>\n",
       "  </thead>\n",
       "  <tbody>\n",
       "    <tr>\n",
       "      <th>Distance</th>\n",
       "      <td>1.000000</td>\n",
       "      <td>0.994546</td>\n",
       "    </tr>\n",
       "    <tr>\n",
       "      <th>Points Accumulated</th>\n",
       "      <td>0.994546</td>\n",
       "      <td>1.000000</td>\n",
       "    </tr>\n",
       "  </tbody>\n",
       "</table>\n",
       "</div>"
      ],
      "text/plain": [
       "                    Distance  Points Accumulated\n",
       "Distance            1.000000            0.994546\n",
       "Points Accumulated  0.994546            1.000000"
      ]
     },
     "execution_count": 297,
     "metadata": {},
     "output_type": "execute_result"
    }
   ],
   "source": [
    "df_correlaciones = df_completo[['Distance','Points Accumulated']].corr( method = \"pearson\")\n",
    "df_correlaciones # relacion lineal y fuerte (cerca de 1) "
   ]
  },
  {
   "cell_type": "markdown",
   "id": "1cc5436a",
   "metadata": {},
   "source": [
    "Conclusión: como muestra la gráfica a mayor distancia en los vuelos más puntos acumulados"
   ]
  },
  {
   "cell_type": "markdown",
   "id": "a0b4a608",
   "metadata": {},
   "source": [
    "3. ¿Cuál es la distribución de los clientes por provincia o estado?"
   ]
  },
  {
   "cell_type": "code",
   "execution_count": 256,
   "id": "fb000d2e",
   "metadata": {},
   "outputs": [
    {
     "name": "stderr",
     "output_type": "stream",
     "text": [
      "C:\\Users\\miria\\AppData\\Local\\Temp\\ipykernel_28264\\1569056314.py:1: FutureWarning: \n",
      "\n",
      "The `ci` parameter is deprecated. Use `errorbar=None` for the same effect.\n",
      "\n",
      "  sns.barplot(x=\"Province\",\n"
     ]
    },
    {
     "data": {
      "text/plain": [
       "([0, 1, 2, 3, 4, 5, 6, 7, 8, 9, 10],\n",
       " [Text(0, 0, 'Alberta'),\n",
       "  Text(1, 0, 'Ontario'),\n",
       "  Text(2, 0, 'British Columbia'),\n",
       "  Text(3, 0, 'Saskatchewan'),\n",
       "  Text(4, 0, 'Quebec'),\n",
       "  Text(5, 0, 'Newfoundland'),\n",
       "  Text(6, 0, 'Manitoba'),\n",
       "  Text(7, 0, 'New Brunswick'),\n",
       "  Text(8, 0, 'Nova Scotia'),\n",
       "  Text(9, 0, 'Prince Edward Island'),\n",
       "  Text(10, 0, 'Yukon')])"
      ]
     },
     "execution_count": 256,
     "metadata": {},
     "output_type": "execute_result"
    },
    {
     "data": {
      "image/png": "[encoded data removed]",
      "text/plain": [
       "<Figure size 640x480 with 1 Axes>"
      ]
     },
     "metadata": {},
     "output_type": "display_data"
    }
   ],
   "source": [
    "sns.barplot(x=\"Province\", \n",
    "            y=\"Loyalty Number\",\n",
    "            data=df_completo,\n",
    "            color='purple',\n",
    "            estimator=\"count\", \n",
    "            ci=None,\n",
    "            )\n",
    "plt.title(\"Clientes por provincia\")\n",
    "plt.xlabel(\"Provincia\")\n",
    "plt.ylabel(\"Total de clientes\")\n",
    "plt.xticks(rotation=90)"
   ]
  },
  {
   "cell_type": "markdown",
   "id": "c3f1cdb1",
   "metadata": {},
   "source": [
    "Conclusión: en las provincias de Ontario, British Columbia y Quebec se concentra el mayor numero de clientes y en Newfoundland, Prince Edward Island y Yukon son las tres provincias donde menos clientes hay"
   ]
  },
  {
   "cell_type": "markdown",
   "id": "d6ef6d06",
   "metadata": {},
   "source": [
    "4. ¿Cómo se compara el salario promedio entre los diferentes niveles educativos de los clientes?"
   ]
  },
  {
   "cell_type": "code",
   "execution_count": null,
   "id": "e737b976",
   "metadata": {},
   "outputs": [
    {
     "name": "stderr",
     "output_type": "stream",
     "text": [
      "C:\\Users\\miria\\AppData\\Local\\Temp\\ipykernel_28264\\945860650.py:14: FutureWarning: \n",
      "\n",
      "The `ci` parameter is deprecated. Use `errorbar=None` for the same effect.\n",
      "\n",
      "  sns.barplot(x=\"Education\",\n"
     ]
    },
    {
     "data": {
      "text/plain": [
       "Text(0, 0.5, 'Salario medio')"
      ]
     },
     "execution_count": 266,
     "metadata": {},
     "output_type": "execute_result"
    },
    {
     "data": {
      "image/png": "[encoded data removed]",
      "text/plain": [
       "<Figure size 3000x1000 with 2 Axes>"
      ]
     },
     "metadata": {},
     "output_type": "display_data"
    }
   ],
   "source": [
    "fig, axes = plt.subplots(nrows = 1, ncols = 2, figsize = (30, 10))\n",
    "\n",
    "sns.boxplot(y = \"Salary\", \n",
    "            x = \"Education\",\n",
    "            data = df_completo, \n",
    "            width = 0.5, \n",
    "            color = \"turquoise\", \n",
    "            ax = axes[0])\n",
    "axes[0].set_title(\"Salario medio por nivel educativo\")\n",
    "axes[0].set_xlabel(\"Nivel educativo\")\n",
    "axes[0].set_ylabel(\"Salario medio\")\n",
    "\n",
    "sns.barplot(x=\"Education\", \n",
    "            y=\"Salary\",\n",
    "            data=df_completo,\n",
    "            color='violet',\n",
    "            estimator=\"mean\", \n",
    "            ci=None,\n",
    "            order=['Doctor','Master', 'Bachelor', 'College', 'High School or Below'],\n",
    "            ax = axes[1])\n",
    "axes[1].set_title(\"Salario medio por nivel educativo\")\n",
    "axes[1].set_xlabel(\"Nivel educativo\")\n",
    "axes[1].set_ylabel(\"Salario medio\")\n"
   ]
  },
  {
   "cell_type": "code",
   "execution_count": null,
   "id": "c17b4009",
   "metadata": {},
   "outputs": [
    {
     "data": {
      "text/plain": [
       "930575367.2885406"
      ]
     },
     "execution_count": 295,
     "metadata": {},
     "output_type": "execute_result"
    }
   ],
   "source": [
    "varianza_sueldos = df_completo['Salary'].var()\n",
    "varianza_sueldos # los sueldos están muy dispersos"
   ]
  },
  {
   "cell_type": "markdown",
   "id": "639aef49",
   "metadata": {},
   "source": [
    "Conclusión: podemos observar en la grafica de barras que cuanto mas estudios tiene un cliente mayor es su sueldo, tambien podemos observar como en el boxplot en los niveles Bachelor y High School or Below vemos clientes que se alejan del promedio y cobran sueldos considerablemente inferiores, en cambio en Doctor vemos como algun cliente esta muy por encima del promedio."
   ]
  },
  {
   "cell_type": "markdown",
   "id": "2229ca63",
   "metadata": {},
   "source": [
    "5. ¿Cuál es la proporción de clientes con diferentes tipos de tarjetas de fidelidad?"
   ]
  },
  {
   "cell_type": "code",
   "execution_count": 272,
   "id": "2d2bc4e1",
   "metadata": {},
   "outputs": [
    {
     "data": {
      "text/plain": [
       "Text(0.5, 1.0, 'Proporcion de clientes por tarjeta de fidelidad')"
      ]
     },
     "execution_count": 272,
     "metadata": {},
     "output_type": "execute_result"
    },
    {
     "data": {
      "image/png": "[encoded data removed]",
      "text/plain": [
       "<Figure size 640x480 with 1 Axes>"
      ]
     },
     "metadata": {},
     "output_type": "display_data"
    }
   ],
   "source": [
    "df_clientes_fidelidad = df_completo.groupby('Loyalty Card')['Loyalty Number'].count().reset_index()\n",
    "colores= ['turquoise','green','blue']\n",
    "plt.pie(\"Loyalty Number\", labels= \"Loyalty Card\",\n",
    "        data = df_clientes_fidelidad, \n",
    "        autopct=  '%1.1f%%', \n",
    "        colors = colores, \n",
    "        textprops={'fontsize': 8}, \n",
    "        startangle=90);\n",
    "plt.title(\"Proporcion de clientes por tarjeta de fidelidad\")"
   ]
  },
  {
   "cell_type": "markdown",
   "id": "1579cd0c",
   "metadata": {},
   "source": [
    "Conclusión: casi el 50% de los clientes pertenecen a la clase Star, el 34% a la clase Nova y el 20% a la clase Aurora"
   ]
  },
  {
   "cell_type": "markdown",
   "id": "f748cbd8",
   "metadata": {},
   "source": [
    "6. ¿Cómo se distribuyen los clientes según su estado civil y género?"
   ]
  },
  {
   "cell_type": "code",
   "execution_count": 288,
   "id": "36d8c431",
   "metadata": {},
   "outputs": [
    {
     "data": {
      "image/png": "[encoded data removed]",
      "text/plain": [
       "<Figure size 640x480 with 1 Axes>"
      ]
     },
     "metadata": {},
     "output_type": "display_data"
    }
   ],
   "source": [
    "df_copia = df_completo.copy()\n",
    "df_copia[\"Gender\"] = df_copia[\"Gender\"].replace({\"Male\": \"Hombre\",\"Female\": \"Mujer\"}) # para traducir\n",
    "df_copia['Marital Status'] = df_copia['Marital Status'].replace({'Married': 'Casado', 'Single':'Soltero', 'Divorced':'Divorciado'}) # para traducir\n",
    "\n",
    "sns.countplot(x = \"Marital Status\", \n",
    "              data = df_copia, \n",
    "              palette = \"Set2\" , \n",
    "              order = ['Casado','Soltero', 'Divorciado'], \n",
    "              hue = \"Gender\")  \n",
    "plt.xticks(rotation = 70)\n",
    "plt.xlabel(\"Estado civil\")\n",
    "plt.ylabel(\"Nº clientes\")\n",
    "plt.legend(title=\"Género\");"
   ]
  },
  {
   "cell_type": "markdown",
   "id": "8f798c8f",
   "metadata": {},
   "source": [
    "Conclusión: practicamente no hay diferencia entre los géneros, hay el mismo número de mujeres y hombres tanto casados, solteros y divorciados por lo que esta muy equilibrado, sin embargo hay muchos mas clientes que estan casados, practicamente el doble que solteros y el triple que divorciados"
   ]
  },
  {
   "cell_type": "markdown",
   "id": "114d88be",
   "metadata": {},
   "source": [
    "Una vez contestadas estas preguntas, lo que le comunicaría a la empresa sería que basandome en los datos recogidos entre 2017 y 2018 sobre los clientes y sus reservas de vuelos, me centraría en aumentar la capacidad para poder recibir todas las ventas en los meses de verano(junio, julio y agosto) y en diciembre, hacer incapie quiza con publicidad en que esta compañia ofrece acumular mas puntos si los viajes son mas largos.\n",
    "Dependiendo de la estrategia a seguir, enfocarse en la venta en los estados donde mas clientes se acumulan o por el contrario aumentar la visibilidad y la publicidad de la compañia en los estados donde hay menos clientes, ademas de hacer promociones para recien casados, para aniversarios, etc, para incentivar a la mayoria de clientes a viajar. \n"
   ]
  }
 ],
 "metadata": {
  "kernelspec": {
   "display_name": "base",
   "language": "python",
   "name": "python3"
  },
  "language_info": {
   "codemirror_mode": {
    "name": "ipython",
    "version": 3
   },
   "file_extension": ".py",
   "mimetype": "text/x-python",
   "name": "python",
   "nbconvert_exporter": "python",
   "pygments_lexer": "ipython3",
   "version": "3.12.7"
  }
 },
 "nbformat": 4,
 "nbformat_minor": 5
}
